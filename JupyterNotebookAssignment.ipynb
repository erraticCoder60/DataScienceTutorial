{
 "cells": [
  {
   "cell_type": "markdown",
   "id": "4070da16-614f-4ff4-bcbc-0fd9172e8ac8",
   "metadata": {},
   "source": [
    "# Assignment work"
   ]
  },
  {
   "cell_type": "markdown",
   "id": "1c7ce154-9c27-4b58-9ee9-7671021ae686",
   "metadata": {},
   "source": [
    "### Introduction\n",
    "\n",
    "WELCOME TO NOTEBOOK"
   ]
  },
  {
   "cell_type": "markdown",
   "id": "d28b13e0-7bb5-4277-b422-9e95ed6d169e",
   "metadata": {},
   "source": [
    "### Data Science Languages\n",
    "\n",
    "- Python\n",
    "- R\n",
    "- SQL\n",
    "- Julia\n",
    "- Scala\n",
    "- Matlab"
   ]
  },
  {
   "cell_type": "markdown",
   "id": "76aac6e4-9d25-4caa-83f0-e13ae5ef1e93",
   "metadata": {},
   "source": [
    "### Data Science Libraries\n",
    "\n",
    "- **Python Libraries**\n",
    "    - Numpy\n",
    "    - Pandas\n",
    "    - Matplotlib\n",
    "    - Seaborn\n",
    "    - Scikit-learn\n",
    "    - Tensorflow\n",
    "    - keras\n",
    "    - PyTorch\n",
    " \n",
    "- **R Libraries**\n",
    "    - ggplot2\n",
    "    - dplyr\n",
    "    - tidyr\n",
    "    - caret"
   ]
  },
  {
   "cell_type": "markdown",
   "id": "8b6ac52b-e937-462d-bf6d-478be6281179",
   "metadata": {},
   "source": [
    "### Data Science Tools\n",
    "\n",
    "| Tool | Type | Description |\n",
    "|-------|------|------------|\n",
    "| **Jupyter Notebook** | Interactive Notebook | Provides an environment for interactive computing and data visualization. |\n",
    "| **Python** | Programming Language | A versatile language with libraries like numpy, pandas and scikit-learn for Data Science. |\n",
    "| **R** | Programming Language | Specialized in statistical analysis and data visualization with libraries like ggplot2 and dplyr. |\n",
    "| **SQL** | Query Language | Used for managing and querying relational databases. |\n",
    "| **TensorFlow** | Machine Learning Framework | An open source library for deep learning & machine learning developed by Google. |\n",
    "| **PyTorch** | Machine Learning Framework | An open source library for machine learning & deep learning, known for its flexibility & dynamic computation. |\n",
    "| **Keras** | Deep Learning API | High leverl neural network API, running on the top of TensorFlow. |\n",
    "| **Tableau** | Data Visualization Tool | Provides powerful tools for creating interative and sharable dashboards. |\n",
    "| **Power BI** | Data Visualization tool | A business analytics tool that helps to visualize and share insights from your data. |\n",
    "| **GitHub** | Version Control | A platform for version control and collaboration, allowing multiple people to work on projects simultaneously.\n",
    "| **Docker** | Containerization | Enables creation, deploying and running application in containers for consistency across different environments.|\n"
   ]
  },
  {
   "cell_type": "markdown",
   "id": "596baaf4-bf11-46f8-9dc1-11f593d18ef6",
   "metadata": {},
   "source": [
    "### Introduction to Arithmetic Expression\n",
    "\n",
    "Arithmetic expressions are fundamental in mathematics & programming. They consists of numbers, operators and sometimes variables, which are combined to perform calculations. Below are some examples of Arithmetic expressions.\n",
    "\n",
    "- **Addition** : Combines two numbers to get their sums. <br> <pre> **Ex:** 5 + 3 = 8 </pre>\n",
    "- **Subtraction** : Finds the difference between two numbers. <br> <pre> **Ex:** 10 - 3 = 7 </pre>\n",
    "- **Multiplication** : Multiplies two numbers to get their product. <br> <pre> **Ex:** 8 * 2 = 16 </pre>\n",
    "- **Division** : Divides one number by another to get the quotient. <br> <pre> **Ex:** 55 // 3 = 18 </pre>\n",
    "- **Exponentiation** : Raises a number to the power of another. <br> <pre> **Ex:** 2 ** 4 = 16 </pre>\n",
    "- **Modulus** : Finds a remainder of a division operation. <br> <pre> **Ex:** 55 % 3 = 1 </pre>"
   ]
  },
  {
   "cell_type": "code",
   "execution_count": 3,
   "id": "d41cd561-989d-4223-9dc4-59887d6b7c56",
   "metadata": {},
   "outputs": [
    {
     "name": "stdout",
     "output_type": "stream",
     "text": [
      "Addition of two numbers:  7\n",
      "Multiplication of two numbers:  12\n"
     ]
    }
   ],
   "source": [
    "num1 = 3\n",
    "num2 = 4\n",
    "\n",
    "print(\"Addition of two numbers: \", num1 + num2)\n",
    "print(\"Multiplication of two numbers: \", num1 * num2)"
   ]
  },
  {
   "cell_type": "code",
   "execution_count": 7,
   "id": "f61546a1-a1a1-4ca1-b853-f486e839aa53",
   "metadata": {},
   "outputs": [
    {
     "name": "stdout",
     "output_type": "stream",
     "text": [
      "157 minutes in hour is 2 hour 37 minutes.\n"
     ]
    }
   ],
   "source": [
    "input_minutes = 157\n",
    "hour = input_minutes // 60\n",
    "minutes = input_minutes % 60\n",
    "\n",
    "print(f\"{input_minutes} minutes in hour is {hour} hour {minutes} minutes.\")"
   ]
  },
  {
   "cell_type": "markdown",
   "id": "4cd90557-76b6-4985-8396-fa72a3f8fca9",
   "metadata": {},
   "source": [
    "# Objectives\n",
    "\n",
    "- **Understand the basics of Python programming**: Learn syntax, data types, and control structures.\n",
    "- **Learn how to use Jupyter Notebook**: Explore features for writing and executing code, as well as creating documentation.\n",
    "- **Master data manipulation with `pandas`**: Perform data cleaning, transformation, and analysis.\n",
    "- **Develop visualization skills with `matplotlib`**: Create plots and charts to represent data visually."
   ]
  },
  {
   "cell_type": "markdown",
   "id": "589b8064-50b4-459d-aaac-ca6d3b6b4cbb",
   "metadata": {},
   "source": [
    "# Author\n",
    "\n",
    "**Name:** Shubhangi Agarwal"
   ]
  },
  {
   "cell_type": "code",
   "execution_count": null,
   "id": "c866b2c9-5945-44c8-b2ab-64a423668ffc",
   "metadata": {},
   "outputs": [],
   "source": []
  }
 ],
 "metadata": {
  "kernelspec": {
   "display_name": "Python 3 (ipykernel)",
   "language": "python",
   "name": "python3"
  },
  "language_info": {
   "codemirror_mode": {
    "name": "ipython",
    "version": 3
   },
   "file_extension": ".py",
   "mimetype": "text/x-python",
   "name": "python",
   "nbconvert_exporter": "python",
   "pygments_lexer": "ipython3",
   "version": "3.8.0"
  }
 },
 "nbformat": 4,
 "nbformat_minor": 5
}
